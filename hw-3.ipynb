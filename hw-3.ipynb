{
 "cells": [
  {
   "cell_type": "markdown",
   "metadata": {},
   "source": [
    "## Find the roots of f(x)=1.01x^2-3.04x+2.07"
   ]
  },
  {
   "cell_type": "code",
   "execution_count": null,
   "metadata": {},
   "outputs": [],
   "source": [
    "%matplotlib inline\n",
    "import matplotlib.pyplot as plt\n",
    "import numpy as np"
   ]
  },
  {
   "cell_type": "markdown",
   "metadata": {},
   "source": [
    "find roots by bisection search"
   ]
  },
  {
   "cell_type": "code",
   "execution_count": null,
   "metadata": {},
   "outputs": [],
   "source": [
    "def function_for_roots(x):\n",
    "    a=1.01\n",
    "    b=-3.04\n",
    "    c=2.07\n",
    "    return a*x**2+b*x+c"
   ]
  },
  {
   "cell_type": "markdown",
   "metadata": {},
   "source": [
    "bisection search\n"
   ]
  },
  {
   "cell_type": "code",
   "execution_count": null,
   "metadata": {},
   "outputs": [],
   "source": [
    "# check initial guesses to see if they're right \n",
    "def check_initial_vals(f,x_min,x_max, tol):\n",
    "    y_min=f(x_min)\n",
    "    y_max=f(x_max)\n",
    "    \n",
    "    #if the y values are both positive or both negative, then they're on the same side\n",
    "    #of the root and can't be used as brackets\n",
    "    if(y_min*y_max>=0):\n",
    "        print(\"No root between = \", x_min,x_max)\n",
    "        s=\"f(%f)=%f,f(%f)=%f\" % (x_min,y_min,x_max,y_max)\n",
    "        print(s)\n",
    "        return 0\n",
    "\n",
    "    #check if the y value @ x_min is close enough to zero to be within the tolerance, flag 1\n",
    "    if(np.fabs(y_min)<tol):\n",
    "        return 1\n",
    "    \n",
    "    #Same for x_max and flag 2\n",
    "    if(np.fabs(y_max)<tol):\n",
    "        return 2\n",
    "\n",
    "    #past this, valid bracket. Flag 3.\n",
    "    return 3"
   ]
  },
  {
   "cell_type": "code",
   "execution_count": null,
   "metadata": {},
   "outputs": [],
   "source": [
    "tol=10**(-10)  # set tolerance"
   ]
  },
  {
   "cell_type": "markdown",
   "metadata": {},
   "source": [
    "## Create actual function"
   ]
  },
  {
   "cell_type": "code",
   "execution_count": null,
   "metadata": {},
   "outputs": [],
   "source": [
    "def bisection_root_finding(f, x_min_start, x_max_start,tol):\n",
    "    #use bisection search to find root\n",
    "    x_min=x_min_start  #minimum x\n",
    "    x_max=x_max_start #max x\n",
    "    \n",
    "    y_min=f(x_min)\n",
    "    y_mmax=f(x_max)\n",
    "    y_mid=0.0\n",
    "    \n",
    "    imax=1000\n",
    "    i=0\n",
    "    \n",
    "    #check initial values\n",
    "    flag=check_initial_vals(f,x_min,x_max,tol)\n",
    "    if(flag==0):\n",
    "        print('Error in bisection_root_finding().')\n",
    "        raise ValueError('Initial values invalid',x_min,x_max)\n",
    "    elif(flag==1):\n",
    "        return x_min\n",
    "    elif(flag==2):\n",
    "        return x_max\n",
    "    \n",
    "    \n",
    "    i=1\n",
    "    imax=1000\n",
    "    while(flag):\n",
    "        x_mid=.5*(x_min+x_max)\n",
    "        y_mid=f(x_max)\n",
    "    \n",
    "        #check x_mid\n",
    "        if(np.fabs(y_mid)<tol):\n",
    "            flag=0\n",
    "            iteration=i\n",
    "        else:\n",
    "            if((f(x_min)*f(x_mid))>0):\n",
    "                x_min=x_mid\n",
    "            \n",
    "            else:\n",
    "                x_max=x_mid\n",
    "            \n",
    "        i+=1\n",
    "    \n",
    "        if(i>imax):\n",
    "            print(\"max number of iterations exceeded =\", i)\n",
    "            s=\"min bracket f(%f)= %f\" % (x_min,function_for_roots(x_min))\n",
    "            print(s)\n",
    "            s=\"max bracket f(%f) =%f\" % (x_max, function_for_roots(x_max))\n",
    "            print(s)\n",
    "            s= \"mid value f(%f) =%f\" % (x_mid, function_for_roots(x_mid))\n",
    "            print(s)\n",
    "            raise StopIteration('stopping iterations after ',i)\n",
    "    return x_mid, i"
   ]
  },
  {
   "cell_type": "markdown",
   "metadata": {},
   "source": [
    "## Apply to Root 1"
   ]
  },
  {
   "cell_type": "code",
   "execution_count": null,
   "metadata": {},
   "outputs": [],
   "source": [
    "x_min1=.95\n",
    "x_max1=1.2\n",
    "x_root1,i_root1=bisection_root_finding(function_for_roots,x_min1,x_max1,tol)\n",
    "y_root1=function_for_roots(x_root1)\n",
    "s=\"Root 1 found as y(%f)=%f in %d iterations\" % (x_root1,y_root1, i_root1)\n",
    "print(s)"
   ]
  },
  {
   "cell_type": "markdown",
   "metadata": {},
   "source": [
    "## Apply to Root 2"
   ]
  },
  {
   "cell_type": "code",
   "execution_count": null,
   "metadata": {},
   "outputs": [],
   "source": [
    "x_min2=1.85\n",
    "x_max2=2.10\n",
    "x_root2, i_root2=bisection_root_finding(function_for_roots,x_min2,x_max2,tol)\n",
    "y_root2=function_for_roots(x_root2)\n",
    "s=\"Root 2 found as y(%f)=%f in %d iterations\" % (x_root2,y_root2, i_root2)\n",
    "print(s)"
   ]
  },
  {
   "cell_type": "markdown",
   "metadata": {},
   "source": [
    "## Plot function"
   ]
  },
  {
   "cell_type": "code",
   "execution_count": null,
   "metadata": {},
   "outputs": [],
   "source": [
    "x=np.linspace(0,3,1000)\n",
    "y=function_for_roots(x)\n",
    "plt.xlim([0,3])\n",
    "plt.ylim([-.5,2.1])\n",
    "plt.xlabel('x')\n",
    "plt.ylabel('y')\n",
    "plt.plot(x,y)\n",
    "y2=np.zeros(1000)\n",
    "plt.plot(x,np.zeros(1000))\n",
    "plt.plot(x_root1,y_root1,'ro')\n",
    "plt.plot(x_root2, y_root2, 'go')\n",
    "plt.plot(x_min1,function_for_roots(x_min1),'rx')\n",
    "plt.plot(x_max1,function_for_roots(x_max1),'rx')\n",
    "plt.plot(x_min2,function_for_roots(x_min2),'gx')\n",
    "plt.plot(x_max2,function_for_roots(x_max2),'gx')"
   ]
  },
  {
   "cell_type": "code",
   "execution_count": null,
   "metadata": {},
   "outputs": [],
   "source": []
  }
 ],
 "metadata": {
  "kernelspec": {
   "display_name": "Python 3",
   "language": "python",
   "name": "python3"
  },
  "language_info": {
   "codemirror_mode": {
    "name": "ipython",
    "version": 3
   },
   "file_extension": ".py",
   "mimetype": "text/x-python",
   "name": "python",
   "nbconvert_exporter": "python",
   "pygments_lexer": "ipython3",
   "version": "3.7.0"
  }
 },
 "nbformat": 4,
 "nbformat_minor": 2
}
